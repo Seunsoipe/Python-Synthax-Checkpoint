{
  "nbformat": 4,
  "nbformat_minor": 0,
  "metadata": {
    "colab": {
      "provenance": [],
      "authorship_tag": "ABX9TyPdSBm3vXINS6cC4y6cIMsh",
      "include_colab_link": true
    },
    "kernelspec": {
      "name": "python3",
      "display_name": "Python 3"
    },
    "language_info": {
      "name": "python"
    }
  },
  "cells": [
    {
      "cell_type": "markdown",
      "metadata": {
        "id": "view-in-github",
        "colab_type": "text"
      },
      "source": [
        "<a href=\"https://colab.research.google.com/github/Seunsoipe/Python-Synthax-Checkpoint/blob/main/File_Handling_Checkpoint.ipynb\" target=\"_parent\"><img src=\"https://colab.research.google.com/assets/colab-badge.svg\" alt=\"Open In Colab\"/></a>"
      ]
    },
    {
      "cell_type": "markdown",
      "source": [
        "Q1. Write a Python program to read an entire text file."
      ],
      "metadata": {
        "id": "onsALkAMLEuA"
      }
    },
    {
      "cell_type": "code",
      "source": [
        "N = open(r\"C:\\Users\\USER\\Downloads\\python (1).txt\",\"w+\")\n",
        "print(N.read())"
      ],
      "metadata": {
        "colab": {
          "base_uri": "https://localhost:8080/"
        },
        "id": "QKXuvs0MvONN",
        "outputId": "9aab7084-c091-4bcc-c5fe-d4186e1bc69d"
      },
      "execution_count": 23,
      "outputs": [
        {
          "output_type": "stream",
          "name": "stdout",
          "text": [
            "\n"
          ]
        }
      ]
    },
    {
      "cell_type": "markdown",
      "source": [],
      "metadata": {
        "id": "WAQdgq21I4TB"
      }
    },
    {
      "cell_type": "markdown",
      "source": [
        "Q2. . Write a Python program to read first n lines of a file. (try to use readlines() function)"
      ],
      "metadata": {
        "id": "54Na1IqVL9Uk"
      }
    },
    {
      "cell_type": "code",
      "source": [
        "N = int(input('Please enter the number lines you want to read from the file: '))\n",
        "with open(r\"C:\\Users\\USER\\Downloads\\python (1).txt\",\"w+\") as f:\n",
        "    Reading = f.readlines()\n",
        "    for x in Reading[0:N]:\n",
        "        print(x, end ='')"
      ],
      "metadata": {
        "colab": {
          "base_uri": "https://localhost:8080/"
        },
        "id": "ongj2_XeNfio",
        "outputId": "67d02ef2-a9c3-448f-aeeb-b7a7fc0ca024"
      },
      "execution_count": 25,
      "outputs": [
        {
          "name": "stdout",
          "output_type": "stream",
          "text": [
            "Please enter the number lines you want to read from the file: 3\n"
          ]
        }
      ]
    },
    {
      "cell_type": "markdown",
      "source": [
        " Q3. Write a Python program to read last n lines of a file"
      ],
      "metadata": {
        "id": "aouua7w2NwPJ"
      }
    },
    {
      "cell_type": "code",
      "source": [
        "N = int(input('Please enter the number lines you want to read from the file: '))\n",
        "with open(r\"C:\\Users\\USER\\Downloads\\python (1).txt\",\"w+\") as f:\n",
        "    Reading = f.readlines()\n",
        "    for x in Reading[-N:]:\n",
        "        print(x, end ='')"
      ],
      "metadata": {
        "id": "6rTPSHMAN58Y",
        "colab": {
          "base_uri": "https://localhost:8080/"
        },
        "outputId": "d67f8811-b6e5-417f-e381-1bc07e91bd39"
      },
      "execution_count": 26,
      "outputs": [
        {
          "name": "stdout",
          "output_type": "stream",
          "text": [
            "Please enter the number lines you want to read from the file: 4\n"
          ]
        }
      ]
    },
    {
      "cell_type": "markdown",
      "source": [
        "Q4. Write a Python program that takes a text file as input and returns the number of words of a given text file."
      ],
      "metadata": {
        "id": "lMP16CIOKS-O"
      }
    },
    {
      "cell_type": "code",
      "source": [
        "N = 0\n",
        "with open(r\"C:\\Users\\USER\\Downloads\\python (1).txt\",\"w+\") as f:\n",
        "    data = f.read()\n",
        "    Split_Read = data.split()\n",
        "    N += len(Split_Read)\n",
        "\n",
        "print(N)"
      ],
      "metadata": {
        "colab": {
          "base_uri": "https://localhost:8080/"
        },
        "id": "-pInq7fJKWQY",
        "outputId": "b560b5b6-4be1-4389-ae40-3dc4168c37d7"
      },
      "execution_count": 27,
      "outputs": [
        {
          "output_type": "stream",
          "name": "stdout",
          "text": [
            "0\n"
          ]
        }
      ]
    }
  ]
}