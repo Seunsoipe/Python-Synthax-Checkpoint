{
  "nbformat": 4,
  "nbformat_minor": 0,
  "metadata": {
    "colab": {
      "provenance": [],
      "authorship_tag": "ABX9TyNW0HxOiCmlCwamEndIWq1W",
      "include_colab_link": true
    },
    "kernelspec": {
      "name": "python3",
      "display_name": "Python 3"
    },
    "language_info": {
      "name": "python"
    }
  },
  "cells": [
    {
      "cell_type": "markdown",
      "metadata": {
        "id": "view-in-github",
        "colab_type": "text"
      },
      "source": [
        "<a href=\"https://colab.research.google.com/github/Seunsoipe/Python-Synthax-Checkpoint/blob/main/Python_Checkpoint_3.ipynb\" target=\"_parent\"><img src=\"https://colab.research.google.com/assets/colab-badge.svg\" alt=\"Open In Colab\"/></a>"
      ]
    },
    {
      "cell_type": "code",
      "execution_count": 1,
      "metadata": {
        "colab": {
          "base_uri": "https://localhost:8080/"
        },
        "id": "plBtm06wZugU",
        "outputId": "6983e245-f304-49d5-d70e-2e11b2e8afd4"
      },
      "outputs": [
        {
          "output_type": "stream",
          "name": "stdout",
          "text": [
            "input an integer :5\n",
            "55\n",
            "555\n",
            "615\n"
          ]
        }
      ],
      "source": [
        "# Question 1: Write a Python program that accepts an integer (n) and computes the value of n+nn+nnn\n",
        "\n",
        "#Sample value of n is 5 \n",
        "\n",
        "#Expected Result : 615 (5+55+555)\n",
        "a = (input('input an integer :'))\n",
        "n1 = (a)\n",
        "n2 = a+a\n",
        "n3 = a+a+a\n",
        "print(n2)\n",
        "print(n3)\n",
        "\n",
        "print(int(n1)+int(n2)+int(n3))"
      ]
    },
    {
      "cell_type": "code",
      "source": [
        "a = (input('input an integer :'))\n",
        "n1 = (a)\n",
        "n2 = a+a\n",
        "n3 = a+a+a\n",
        "print(n2)\n",
        "print(n3)\n",
        "\n",
        "Result = int(n1) + int(n2) + int(n3)\n",
        "print(Result)"
      ],
      "metadata": {
        "colab": {
          "base_uri": "https://localhost:8080/"
        },
        "id": "OZZ2mWW9bxtC",
        "outputId": "cb84cce8-7c58-4ce1-8f76-f01ba530e05c"
      },
      "execution_count": 2,
      "outputs": [
        {
          "output_type": "stream",
          "name": "stdout",
          "text": [
            "input an integer :5\n",
            "55\n",
            "555\n",
            "615\n"
          ]
        }
      ]
    },
    {
      "cell_type": "code",
      "source": [
        "a = (input('input an integer :'))\n",
        "n1 = (a)\n",
        "n2 = a+a\n",
        "n3 = a+a+a\n",
        "print(n2)\n",
        "print(n3)\n",
        "\n",
        "Result = int(n1) + int(n2) + int(n3)\n",
        "print(Result)"
      ],
      "metadata": {
        "colab": {
          "base_uri": "https://localhost:8080/"
        },
        "id": "WXJ1lZJMcXTJ",
        "outputId": "b6ca7c85-d811-4767-a64d-921f96fb0797"
      },
      "execution_count": 3,
      "outputs": [
        {
          "output_type": "stream",
          "name": "stdout",
          "text": [
            "input an integer :8\n",
            "88\n",
            "888\n",
            "984\n"
          ]
        }
      ]
    },
    {
      "cell_type": "code",
      "source": [
        "#Question 2\n",
        "\n",
        "#Write a Python program to find whether a given number (accept from the user) is even or odd, print out an appropriate message to the user.\n",
        "\n",
        "Number = input('Please enter a Value')\n",
        "Number = int(Number)\n",
        "if Number%2 == 0:\n",
        "  print('The number You entered is an Even Number')\n",
        "else:\n",
        "  print('The number is an Odd number')  "
      ],
      "metadata": {
        "colab": {
          "base_uri": "https://localhost:8080/"
        },
        "id": "0R5IdZ_Kdid2",
        "outputId": "269b6f21-9f78-4397-9fc4-6667523f8ac3"
      },
      "execution_count": 5,
      "outputs": [
        {
          "output_type": "stream",
          "name": "stdout",
          "text": [
            "Please enter a Value6\n",
            "The number You entered is an Even Number\n"
          ]
        }
      ]
    },
    {
      "cell_type": "code",
      "source": [
        "#Question 2\n",
        "\n",
        "#Write a Python program to find whether a given number (accept from the user) is even or odd, print out an appropriate message to the user.\n",
        "\n",
        "Number = input('Please enter a Value')\n",
        "Number = int(Number)\n",
        "if Number%2 == 0:\n",
        "  print('The number You entered is an Even Number')\n",
        "else:\n",
        "  print('The number is an Odd number')  "
      ],
      "metadata": {
        "colab": {
          "base_uri": "https://localhost:8080/"
        },
        "id": "R21zPyZgfitg",
        "outputId": "ca6b616e-e70e-49f1-bce0-9c8e51520ad8"
      },
      "execution_count": 7,
      "outputs": [
        {
          "output_type": "stream",
          "name": "stdout",
          "text": [
            "Please enter a Value13\n",
            "The number is an Odd number\n"
          ]
        }
      ]
    },
    {
      "cell_type": "code",
      "source": [
        "#Question 3 \n",
        "\n",
        "#Write a program which will find all such numbers which are divisible by 7 but are not a multiple of 5, between 2000 and 3200 (both included). \n",
        "#The numbers obtained should be printed in a sequence on a single line.\n",
        "\n",
        "#Hints: Consider use range(#begin, #end) method\n",
        "\n",
        "for i in range(2000,3200):\n",
        "    if i%7 == 0 and i%5 != 0:\n",
        "       print(i, end=\" \")"
      ],
      "metadata": {
        "colab": {
          "base_uri": "https://localhost:8080/"
        },
        "id": "iQf_S14bgbw7",
        "outputId": "501b6448-3f5f-4d0e-df93-10150e2efac7"
      },
      "execution_count": 16,
      "outputs": [
        {
          "output_type": "stream",
          "name": "stdout",
          "text": [
            "2002 2009 2016 2023 2037 2044 2051 2058 2072 2079 2086 2093 2107 2114 2121 2128 2142 2149 2156 2163 2177 2184 2191 2198 2212 2219 2226 2233 2247 2254 2261 2268 2282 2289 2296 2303 2317 2324 2331 2338 2352 2359 2366 2373 2387 2394 2401 2408 2422 2429 2436 2443 2457 2464 2471 2478 2492 2499 2506 2513 2527 2534 2541 2548 2562 2569 2576 2583 2597 2604 2611 2618 2632 2639 2646 2653 2667 2674 2681 2688 2702 2709 2716 2723 2737 2744 2751 2758 2772 2779 2786 2793 2807 2814 2821 2828 2842 2849 2856 2863 2877 2884 2891 2898 2912 2919 2926 2933 2947 2954 2961 2968 2982 2989 2996 3003 3017 3024 3031 3038 3052 3059 3066 3073 3087 3094 3101 3108 3122 3129 3136 3143 3157 3164 3171 3178 3192 3199 "
          ]
        }
      ]
    },
    {
      "cell_type": "code",
      "source": [
        "#Mylist = []\n",
        "for i in range(2000,3200):\n",
        "    if i%7 == 0 and i%5 != 0:\n",
        "      #Mylist.append(i)\n",
        "       print(i, 'is divisible by 7 and is a multiple of 5')"
      ],
      "metadata": {
        "colab": {
          "base_uri": "https://localhost:8080/"
        },
        "id": "RnSVYMRZjoYQ",
        "outputId": "5beb353d-6bcf-4e4b-91a6-b02a9f424cdd"
      },
      "execution_count": 18,
      "outputs": [
        {
          "output_type": "stream",
          "name": "stdout",
          "text": [
            "2002 is divisible by 7 and is a multiple of 5\n",
            "2009 is divisible by 7 and is a multiple of 5\n",
            "2016 is divisible by 7 and is a multiple of 5\n",
            "2023 is divisible by 7 and is a multiple of 5\n",
            "2037 is divisible by 7 and is a multiple of 5\n",
            "2044 is divisible by 7 and is a multiple of 5\n",
            "2051 is divisible by 7 and is a multiple of 5\n",
            "2058 is divisible by 7 and is a multiple of 5\n",
            "2072 is divisible by 7 and is a multiple of 5\n",
            "2079 is divisible by 7 and is a multiple of 5\n",
            "2086 is divisible by 7 and is a multiple of 5\n",
            "2093 is divisible by 7 and is a multiple of 5\n",
            "2107 is divisible by 7 and is a multiple of 5\n",
            "2114 is divisible by 7 and is a multiple of 5\n",
            "2121 is divisible by 7 and is a multiple of 5\n",
            "2128 is divisible by 7 and is a multiple of 5\n",
            "2142 is divisible by 7 and is a multiple of 5\n",
            "2149 is divisible by 7 and is a multiple of 5\n",
            "2156 is divisible by 7 and is a multiple of 5\n",
            "2163 is divisible by 7 and is a multiple of 5\n",
            "2177 is divisible by 7 and is a multiple of 5\n",
            "2184 is divisible by 7 and is a multiple of 5\n",
            "2191 is divisible by 7 and is a multiple of 5\n",
            "2198 is divisible by 7 and is a multiple of 5\n",
            "2212 is divisible by 7 and is a multiple of 5\n",
            "2219 is divisible by 7 and is a multiple of 5\n",
            "2226 is divisible by 7 and is a multiple of 5\n",
            "2233 is divisible by 7 and is a multiple of 5\n",
            "2247 is divisible by 7 and is a multiple of 5\n",
            "2254 is divisible by 7 and is a multiple of 5\n",
            "2261 is divisible by 7 and is a multiple of 5\n",
            "2268 is divisible by 7 and is a multiple of 5\n",
            "2282 is divisible by 7 and is a multiple of 5\n",
            "2289 is divisible by 7 and is a multiple of 5\n",
            "2296 is divisible by 7 and is a multiple of 5\n",
            "2303 is divisible by 7 and is a multiple of 5\n",
            "2317 is divisible by 7 and is a multiple of 5\n",
            "2324 is divisible by 7 and is a multiple of 5\n",
            "2331 is divisible by 7 and is a multiple of 5\n",
            "2338 is divisible by 7 and is a multiple of 5\n",
            "2352 is divisible by 7 and is a multiple of 5\n",
            "2359 is divisible by 7 and is a multiple of 5\n",
            "2366 is divisible by 7 and is a multiple of 5\n",
            "2373 is divisible by 7 and is a multiple of 5\n",
            "2387 is divisible by 7 and is a multiple of 5\n",
            "2394 is divisible by 7 and is a multiple of 5\n",
            "2401 is divisible by 7 and is a multiple of 5\n",
            "2408 is divisible by 7 and is a multiple of 5\n",
            "2422 is divisible by 7 and is a multiple of 5\n",
            "2429 is divisible by 7 and is a multiple of 5\n",
            "2436 is divisible by 7 and is a multiple of 5\n",
            "2443 is divisible by 7 and is a multiple of 5\n",
            "2457 is divisible by 7 and is a multiple of 5\n",
            "2464 is divisible by 7 and is a multiple of 5\n",
            "2471 is divisible by 7 and is a multiple of 5\n",
            "2478 is divisible by 7 and is a multiple of 5\n",
            "2492 is divisible by 7 and is a multiple of 5\n",
            "2499 is divisible by 7 and is a multiple of 5\n",
            "2506 is divisible by 7 and is a multiple of 5\n",
            "2513 is divisible by 7 and is a multiple of 5\n",
            "2527 is divisible by 7 and is a multiple of 5\n",
            "2534 is divisible by 7 and is a multiple of 5\n",
            "2541 is divisible by 7 and is a multiple of 5\n",
            "2548 is divisible by 7 and is a multiple of 5\n",
            "2562 is divisible by 7 and is a multiple of 5\n",
            "2569 is divisible by 7 and is a multiple of 5\n",
            "2576 is divisible by 7 and is a multiple of 5\n",
            "2583 is divisible by 7 and is a multiple of 5\n",
            "2597 is divisible by 7 and is a multiple of 5\n",
            "2604 is divisible by 7 and is a multiple of 5\n",
            "2611 is divisible by 7 and is a multiple of 5\n",
            "2618 is divisible by 7 and is a multiple of 5\n",
            "2632 is divisible by 7 and is a multiple of 5\n",
            "2639 is divisible by 7 and is a multiple of 5\n",
            "2646 is divisible by 7 and is a multiple of 5\n",
            "2653 is divisible by 7 and is a multiple of 5\n",
            "2667 is divisible by 7 and is a multiple of 5\n",
            "2674 is divisible by 7 and is a multiple of 5\n",
            "2681 is divisible by 7 and is a multiple of 5\n",
            "2688 is divisible by 7 and is a multiple of 5\n",
            "2702 is divisible by 7 and is a multiple of 5\n",
            "2709 is divisible by 7 and is a multiple of 5\n",
            "2716 is divisible by 7 and is a multiple of 5\n",
            "2723 is divisible by 7 and is a multiple of 5\n",
            "2737 is divisible by 7 and is a multiple of 5\n",
            "2744 is divisible by 7 and is a multiple of 5\n",
            "2751 is divisible by 7 and is a multiple of 5\n",
            "2758 is divisible by 7 and is a multiple of 5\n",
            "2772 is divisible by 7 and is a multiple of 5\n",
            "2779 is divisible by 7 and is a multiple of 5\n",
            "2786 is divisible by 7 and is a multiple of 5\n",
            "2793 is divisible by 7 and is a multiple of 5\n",
            "2807 is divisible by 7 and is a multiple of 5\n",
            "2814 is divisible by 7 and is a multiple of 5\n",
            "2821 is divisible by 7 and is a multiple of 5\n",
            "2828 is divisible by 7 and is a multiple of 5\n",
            "2842 is divisible by 7 and is a multiple of 5\n",
            "2849 is divisible by 7 and is a multiple of 5\n",
            "2856 is divisible by 7 and is a multiple of 5\n",
            "2863 is divisible by 7 and is a multiple of 5\n",
            "2877 is divisible by 7 and is a multiple of 5\n",
            "2884 is divisible by 7 and is a multiple of 5\n",
            "2891 is divisible by 7 and is a multiple of 5\n",
            "2898 is divisible by 7 and is a multiple of 5\n",
            "2912 is divisible by 7 and is a multiple of 5\n",
            "2919 is divisible by 7 and is a multiple of 5\n",
            "2926 is divisible by 7 and is a multiple of 5\n",
            "2933 is divisible by 7 and is a multiple of 5\n",
            "2947 is divisible by 7 and is a multiple of 5\n",
            "2954 is divisible by 7 and is a multiple of 5\n",
            "2961 is divisible by 7 and is a multiple of 5\n",
            "2968 is divisible by 7 and is a multiple of 5\n",
            "2982 is divisible by 7 and is a multiple of 5\n",
            "2989 is divisible by 7 and is a multiple of 5\n",
            "2996 is divisible by 7 and is a multiple of 5\n",
            "3003 is divisible by 7 and is a multiple of 5\n",
            "3017 is divisible by 7 and is a multiple of 5\n",
            "3024 is divisible by 7 and is a multiple of 5\n",
            "3031 is divisible by 7 and is a multiple of 5\n",
            "3038 is divisible by 7 and is a multiple of 5\n",
            "3052 is divisible by 7 and is a multiple of 5\n",
            "3059 is divisible by 7 and is a multiple of 5\n",
            "3066 is divisible by 7 and is a multiple of 5\n",
            "3073 is divisible by 7 and is a multiple of 5\n",
            "3087 is divisible by 7 and is a multiple of 5\n",
            "3094 is divisible by 7 and is a multiple of 5\n",
            "3101 is divisible by 7 and is a multiple of 5\n",
            "3108 is divisible by 7 and is a multiple of 5\n",
            "3122 is divisible by 7 and is a multiple of 5\n",
            "3129 is divisible by 7 and is a multiple of 5\n",
            "3136 is divisible by 7 and is a multiple of 5\n",
            "3143 is divisible by 7 and is a multiple of 5\n",
            "3157 is divisible by 7 and is a multiple of 5\n",
            "3164 is divisible by 7 and is a multiple of 5\n",
            "3171 is divisible by 7 and is a multiple of 5\n",
            "3178 is divisible by 7 and is a multiple of 5\n",
            "3192 is divisible by 7 and is a multiple of 5\n",
            "3199 is divisible by 7 and is a multiple of 5\n"
          ]
        }
      ]
    },
    {
      "cell_type": "code",
      "source": [
        "#Write a program which can compute the factorial of a given numbers. The results should be printed in a sequence on a single line. \n",
        "#Suppose the following input is supplied to the program: 8 Then, the output should be: 40320 \n",
        "\n",
        "def factorial(n):\n",
        "    value = 1\n",
        "    for i in range(1, n+1):\n",
        "        value = value * i\n",
        "    return value\n",
        "\n",
        "number = int(input(\"Type a number: \"))\n",
        "print(factorial(number))\n"
      ],
      "metadata": {
        "colab": {
          "base_uri": "https://localhost:8080/"
        },
        "id": "Txw4nbmBkz89",
        "outputId": "c3db928f-66dd-44a3-8804-1464007f6111"
      },
      "execution_count": 19,
      "outputs": [
        {
          "output_type": "stream",
          "name": "stdout",
          "text": [
            "Type a number: 8\n",
            "40320\n"
          ]
        }
      ]
    },
    {
      "cell_type": "code",
      "source": [
        "def odd_values_string(str):\n",
        "  result = \"\" \n",
        "  for i in range(len(str)):\n",
        "    if i % 2 == 0:\n",
        "      result = result + str[i]\n",
        "  return result\n",
        "\n",
        "\n",
        "print(odd_values_string('hello team'))"
      ],
      "metadata": {
        "colab": {
          "base_uri": "https://localhost:8080/"
        },
        "id": "dZgOUuYzl7kP",
        "outputId": "db89d03b-cc1f-4ae5-b3ae-4ad6f9f449be"
      },
      "execution_count": 22,
      "outputs": [
        {
          "output_type": "stream",
          "name": "stdout",
          "text": [
            "hlota\n"
          ]
        }
      ]
    }
  ]
}